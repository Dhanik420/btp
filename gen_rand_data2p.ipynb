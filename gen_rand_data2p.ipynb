{
  "nbformat": 4,
  "nbformat_minor": 0,
  "metadata": {
    "colab": {
      "name": "gen_rand_data2p.ipynb",
      "provenance": []
    },
    "kernelspec": {
      "name": "python3",
      "display_name": "Python 3"
    }
  },
  "cells": [
    {
      "cell_type": "code",
      "metadata": {
        "id": "CS0r35di9Vo3"
      },
      "source": [
        ""
      ],
      "execution_count": null,
      "outputs": []
    },
    {
      "cell_type": "code",
      "metadata": {
        "id": "Y3FynAkSny0_"
      },
      "source": [
        "import numpy as np\n",
        "import pandas as pd\n",
        "from mpl_toolkits.mplot3d import Axes3D\n",
        "from matplotlib import cm\n",
        "import matplotlib.pyplot as plt\n",
        "import matplotlib\n",
        "import numba\n",
        "import time\n",
        "from numba import cuda\n",
        "from numpy.random import rand as ra"
      ],
      "execution_count": null,
      "outputs": []
    },
    {
      "cell_type": "code",
      "metadata": {
        "id": "CKd08rzK9i5a"
      },
      "source": [
        ""
      ],
      "execution_count": null,
      "outputs": []
    },
    {
      "cell_type": "code",
      "metadata": {
        "id": "-0Gr2tZMn7wU"
      },
      "source": [
        "#function to run in GPU\n",
        "@cuda.jit()\n",
        "def tempfunction(xc,yc,Tp,T,Ts):\n",
        "  tx = cuda.threadIdx.x\n",
        "  bx = cuda.blockIdx.x\n",
        "  bw = cuda.blockDim.x\n",
        "  index = tx + bx * bw\n",
        "  err=1\n",
        "  while err>0.000001:\n",
        "    mx=0\n",
        "    for i in range(50):\n",
        "      for j in range(50):\n",
        "        vtemp=0\n",
        "        for x in range(2):\n",
        "          if xc[index,x]==i and yc[index,x]==j:\n",
        "            vtemp=x+1\n",
        "            break\n",
        "        if vtemp>0:\n",
        "          Ts[index,i,j]=Tp[index,vtemp-1]\n",
        "        elif (int(i==0) or int(j==0) or int(i==49) or int(j==49))>0:\n",
        "          Ts[index,i,j]=0\n",
        "        else :\n",
        "          Ts[index,i,j]=(Ts[index,i+1,j]+Ts[index,i-1,j]+Ts[index,i,j+1]+Ts[index,i,j-1])/4\n",
        "    \n",
        "        vt=T[index,i,j]-Ts[index,i,j]\n",
        "        if vt<0:\n",
        "          vt=-vt\n",
        "        if vt>mx:\n",
        "          mx=vt\n",
        "        T[index,i,j]=Ts[index,i,j]\n",
        "    err=mx\n"
      ],
      "execution_count": null,
      "outputs": []
    },
    {
      "cell_type": "code",
      "metadata": {
        "id": "igd5SwTIWy8B"
      },
      "source": [
        "#parameters \n",
        "xc=[]\n",
        "yc=[]\n",
        "Tc=[]\n",
        "T=[]\n",
        "Tt=[[0.0] * 50] * 50\n",
        "for xc1 in np.arange(0,1.1,0.2):\n",
        "  for xc2 in np.arange(0,1.1,0.2):\n",
        "    for yc1 in np.arange(0,1.1,0.2):\n",
        "      for yc2 in np.arange(0,1.1,0.2):\n",
        "        for Tc1 in np.arange(0,501,100):\n",
        "          for Tc2 in np.arange(0,501,100):\n",
        "            xc.append([ra(),ra()])\n",
        "            yc.append([ra(),ra()])\n",
        "            Tc.append([ra()*500,ra()*500])\n",
        "            T.append(Tt.copy())\n",
        "T2=T.copy()\n",
        "T=np.array(T)\n",
        "T2=np.array(T2)\n",
        "xc=np.array(xc)\n",
        "yc=np.array(yc)\n",
        "Tc=np.array(Tc)\n",
        "xc=(xc*49).astype(int)\n",
        "yc=(yc*49).astype(int)\n",
        "Tc=Tc.astype(float)"
      ],
      "execution_count": null,
      "outputs": []
    },
    {
      "cell_type": "code",
      "metadata": {
        "id": "wkphCtjnp2iz"
      },
      "source": [
        "blockdim = 432\n",
        "griddim = int(6**6/432)\n",
        "start = time.time()\n",
        "T=T.astype(float)\n",
        "T2=T2.astype(float)\n",
        "tempfunction[griddim, blockdim](xc,yc,Tc,T,T2)\n",
        "end = time.time()"
      ],
      "execution_count": null,
      "outputs": []
    },
    {
      "cell_type": "code",
      "metadata": {
        "id": "91W77BzIvllJ"
      },
      "source": [
        "colums=[]\n",
        "itter=0\n",
        "colums.append('x0')\n",
        "colums.append('x1')\n",
        "colums.append('y0')\n",
        "colums.append('y1')\n",
        "colums.append('Tp0')\n",
        "colums.append('Tp1')\n",
        "for temp in range(2500):\n",
        "  colums.append('T'+str(temp))\n",
        "T=T.reshape(46656,2500)\n",
        "df=np.concatenate((xc,yc),axis=1)\n",
        "df=np.concatenate((df,Tc),axis=1)\n",
        "df=np.concatenate((df,T),axis=1)\n",
        "df=pd.DataFrame(df,columns=colums)"
      ],
      "execution_count": null,
      "outputs": []
    },
    {
      "cell_type": "code",
      "metadata": {
        "id": "n4Lzlz7J1Lnw",
        "outputId": "12b36d27-5bfc-426d-a367-9e8867bd1df3",
        "colab": {
          "base_uri": "https://localhost:8080/",
          "height": 34
        }
      },
      "source": [
        "from google.colab import drive\n",
        "drive.mount('drive')"
      ],
      "execution_count": null,
      "outputs": [
        {
          "output_type": "stream",
          "text": [
            "Mounted at drive\n"
          ],
          "name": "stdout"
        }
      ]
    },
    {
      "cell_type": "code",
      "metadata": {
        "id": "6dYOZG0Q111Y"
      },
      "source": [
        "df.to_csv('datar2p.csv')\n",
        "!cp datar2p.csv \"drive/My Drive/\""
      ],
      "execution_count": null,
      "outputs": []
    }
  ]
}